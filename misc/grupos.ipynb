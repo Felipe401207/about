{
 "cells": [
  {
   "cell_type": "markdown",
   "metadata": {},
   "source": [
    "# Sorteia os grupos aleatoriamente"
   ]
  },
  {
   "cell_type": "code",
   "execution_count": 1,
   "metadata": {
    "collapsed": true
   },
   "outputs": [],
   "source": [
    "import random"
   ]
  },
  {
   "cell_type": "code",
   "execution_count": 2,
   "metadata": {
    "collapsed": false
   },
   "outputs": [
    {
     "name": "stdout",
     "output_type": "stream",
     "text": [
      "Help on method shuffle in module random:\n",
      "\n",
      "shuffle(x, random=None) method of random.Random instance\n",
      "    Shuffle list x in place, and return None.\n",
      "    \n",
      "    Optional argument random is a 0-argument function returning a\n",
      "    random float in [0.0, 1.0); if it is the default None, the\n",
      "    standard random.random will be used.\n",
      "\n"
     ]
    }
   ],
   "source": [
    "help(random.shuffle)"
   ]
  },
  {
   "cell_type": "code",
   "execution_count": 3,
   "metadata": {
    "collapsed": false
   },
   "outputs": [],
   "source": [
    "def sorteia(alunos):\n",
    "    \"\"\"\n",
    "    Sorteia grupos de 3 alunos\n",
    "    \"\"\"\n",
    "    # Embaralha a lista de alunos\n",
    "    random.shuffle(alunos)\n",
    "    # De quantas pessoas são os grupos\n",
    "    grupos_de = 3\n",
    "    # Divide a lista de alunos em listas de 3 nomes\n",
    "    grupos = [alunos[i:i + grupos_de] \n",
    "              for i in range(0, len(alunos), grupos_de)]\n",
    "    return grupos\n",
    "\n",
    "def cria_grupos(fname):\n",
    "    \"\"\"\n",
    "    Lê os alunos do arquivo, sorteia os grupos e imprime o resultado\n",
    "    \"\"\"\n",
    "    with open(fname) as f:\n",
    "        alunos = [l.strip() for l in f.readlines()]\n",
    "    grupos = sorteia(alunos)\n",
    "    # Imprime os nomes de cada grupo\n",
    "    for i, grupo in enumerate(grupos):\n",
    "        nomes = ' | '.join(grupo).title()\n",
    "        print('{}.'.format(i + 1), nomes)\n",
    "        print()"
   ]
  },
  {
   "cell_type": "code",
   "execution_count": 5,
   "metadata": {
    "collapsed": false
   },
   "outputs": [
    {
     "name": "stdout",
     "output_type": "stream",
     "text": [
      "1. Thiago Veloso Franklin | Ingrid Silva Bernardo | Tainá Napoleáo Caram\n",
      "\n",
      "2. Adélia Duarte Rocha | Felipe Pereira De Andrade | Itamar Almeida De Oliveira\n",
      "\n",
      "3. Gabriel Lemos | Daniela Alvim Silva | Lucas Silva Pereira\n",
      "\n",
      "4. Karina Dos Santos Pereira | Breno Henrique De Souza | Carolline Xavier Da Silva Vieira\n",
      "\n",
      "5. Julio Cabaleiro Vianna | Nara De Oliveira Rodrigues Jose | Stefany Bento Da Silva\n",
      "\n",
      "6. Rafael Do Rego Barros Lapagesse Alves Correa | Marlos Thami Chalub Americo Dos Reis | Thais Peccini Pinheiro\n",
      "\n",
      "7. Arthur Mendes Romeu | Fernanda Ferreira | Paula Marangoni Gazineu Marinho Pinto\n",
      "\n",
      "8. William Dos Santos Moraes | Filipe Luiz Vianna Ribeiro | Anderson Ramos Machado\n",
      "\n",
      "9. Juliana De Carvalho Paula | Marília Cardoso Pereira | Ana Carolina Brown Bezerra Nabuco\n",
      "\n",
      "10. Marcos Vinicius Carvalho Clemente | Juliana De Oliveira Silva | Barbara Machado Lisboa\n",
      "\n",
      "11. Suani Suelen Boca Santa | Ronan De Oliveira Pereira Bezerra\n",
      "\n"
     ]
    }
   ],
   "source": [
    "cria_grupos('alunos-t1.txt')"
   ]
  },
  {
   "cell_type": "code",
   "execution_count": 7,
   "metadata": {
    "collapsed": false
   },
   "outputs": [
    {
     "name": "stdout",
     "output_type": "stream",
     "text": [
      "1. Márcia Ferreira Cardoso De Oliveira | João Pedro Marvila Padilha Pitta | Breno De Brito Fontel\n",
      "\n",
      "2. Carlos Eduardo Verissimo Ribeiro | Ana Paula De Souza Nascimento | Gabriel Dos Santos Delgado\n",
      "\n",
      "3. Camila De Araujo Reveles Barreira | Luiz Henrique Gomes Da Silva | Felipe Da Costa Lage\n",
      "\n",
      "4. Jonatan Henrique Da Silva Nascimento | Luiza Gonçalves De Brito | Angélica Roberta Costa\n",
      "\n",
      "5. Guilherme Araujo Martins | Leticia Alvarenga Marinho | Juliana De Almeida Silva\n",
      "\n",
      "6. Paulo Ricardo Radha Ramana Quintella Da Silva | Douglas Parreira De Freitas | Julyana Marapodi Grisolia\n",
      "\n",
      "7. Roberto Luiz Pereira E Souza | Marcela Rodrigues Claudio\n",
      "\n"
     ]
    }
   ],
   "source": [
    "cria_grupos('alunos-t2.txt')"
   ]
  },
  {
   "cell_type": "code",
   "execution_count": null,
   "metadata": {
    "collapsed": true
   },
   "outputs": [],
   "source": []
  }
 ],
 "metadata": {
  "kernelspec": {
   "display_name": "Python 3",
   "language": "python",
   "name": "python3"
  },
  "language_info": {
   "codemirror_mode": {
    "name": "ipython",
    "version": 3
   },
   "file_extension": ".py",
   "mimetype": "text/x-python",
   "name": "python",
   "nbconvert_exporter": "python",
   "pygments_lexer": "ipython3",
   "version": "3.4.3"
  }
 },
 "nbformat": 4,
 "nbformat_minor": 0
}
