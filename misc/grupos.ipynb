{
 "cells": [
  {
   "cell_type": "markdown",
   "metadata": {},
   "source": [
    "# Sorteia os grupos aleatoriamente"
   ]
  },
  {
   "cell_type": "code",
   "execution_count": 1,
   "metadata": {
    "collapsed": true
   },
   "outputs": [],
   "source": [
    "import random"
   ]
  },
  {
   "cell_type": "code",
   "execution_count": 2,
   "metadata": {
    "collapsed": false
   },
   "outputs": [],
   "source": [
    "def sorteia(alunos):\n",
    "    \"\"\"\n",
    "    Sorteia grupos de 3 alunos\n",
    "    \"\"\"\n",
    "    # Embaralha a lista de alunos\n",
    "    random.shuffle(alunos)\n",
    "    # De quantas pessoas são os grupos\n",
    "    grupos_de = 3\n",
    "    # Divide a lista de alunos em listas de 3 nomes\n",
    "    grupos = [alunos[i:i + grupos_de] for i in range(0, len(alunos), grupos_de)]\n",
    "    return grupos\n",
    "\n",
    "def cria_grupos(fname):\n",
    "    \"\"\"\n",
    "    Lê os alunos do arquivo, sorteia os grupos e imprime o resultado\n",
    "    \"\"\"\n",
    "    with open(fname) as f:\n",
    "        alunos = [l.strip() for l in f.readlines()]\n",
    "    grupos = sorteia(alunos)\n",
    "    # Imprime os nomes de cada grupo\n",
    "    for i, grupo in enumerate(grupos):\n",
    "        nomes = ' | '.join(grupo).title()\n",
    "        print('{}.'.format(i + 1), nomes)\n",
    "        print()"
   ]
  },
  {
   "cell_type": "code",
   "execution_count": 3,
   "metadata": {
    "collapsed": false
   },
   "outputs": [
    {
     "name": "stdout",
     "output_type": "stream",
     "text": [
      "1. Silas Da Silva | Daniela Alvim Silva | Ronan De Oliveira Pereira Bezerra\n",
      "\n",
      "2. Dayana Da Silva Ferreira | Thais Peccini Pinheiro | Diogo Dos Santos Duarte\n",
      "\n",
      "3. Felipe Pereira De Andrade | Juliana De Carvalho Paula | Adélia Duarte Rocha\n",
      "\n",
      "4. Lucas Silva Pereira | Barbara Machado Lisboa | Paula Marangoni Gazineu Marinho Pinto\n",
      "\n",
      "5. Carolline Xavier Da Silva Vieira | Marlos Thami Chalub Americo Dos Reis | Marcos Vinicius Carvalho Clemente\n",
      "\n",
      "6. Arthur Mendes Romeu | Anderson Ramos Machado | Rafael Pinheiro Alves Da Silva\n",
      "\n",
      "7. Ingrid Silva Bernardo | Tainá Napoleáo Caram | Stefany Bento Da Silva\n",
      "\n",
      "8. Mariana De Faria Santos | William Dos Santos Moraes | Marília Cardoso Pereira\n",
      "\n",
      "9. Suani Suelen Boca Santa | Daniel Rosselli Goncalves Silva | Caio Cesza Mota Farias\n",
      "\n",
      "10. Juliana De Oliveira Silva | Nara De Oliveira Rodrigues Jose | Flavia Streva Nunes\n",
      "\n",
      "11. Breno Henrique De Souza | Clara Silveira Azar | Fernanda Ferreira\n",
      "\n",
      "12. Itamar Almeida De Oliveira | Gabriel Lemos | Ana Carolina Brown Bezerra Nabuco\n",
      "\n",
      "13. Karina Dos Santos Pereira | Gustavo Da Cunha Abrahim Lima | Sidharta Soares Pereira\n",
      "\n",
      "14. Filipe Luiz Vianna Ribeiro | Thiago Veloso Franklin | Julio Cabaleiro Vianna\n",
      "\n",
      "15. Rafael Do Rego Barros Lapagesse Alves Correa\n",
      "\n"
     ]
    }
   ],
   "source": [
    "cria_grupos('alunos-t1.txt')"
   ]
  },
  {
   "cell_type": "code",
   "execution_count": 4,
   "metadata": {
    "collapsed": false
   },
   "outputs": [
    {
     "name": "stdout",
     "output_type": "stream",
     "text": [
      "1. Julyana Marapodi Grisolia | Jonatan Henrique Da Silva Nascimento | Guilherme Araujo Martins\n",
      "\n",
      "2. Douglas Parreira De Freitas | Paulo Ricardo Radha Ramana Quintella Da Silva | Leticia Alvarenga Marinho\n",
      "\n",
      "3. Márcia Ferreira Cardoso De Oliveira | Roberto Luiz Pereira E Souza | Ana Paula De Souza Nascimento\n",
      "\n",
      "4. Luiza Gonçalves De Brito | Angélica Roberta Costa | Camila De Araujo Reveles Barreira\n",
      "\n",
      "5. Carla De Azevedo Paes Nunes. | Andre Mejia Grijo | Maria Carolina Chalegre Touceira\n",
      "\n",
      "6. Gabriel Dos Santos Delgado | Rieli Araujo Souza | Guilherme Malagutti De Castro\n",
      "\n",
      "7. Dyellen Soares Queiroz | Diana Machado Tompson | Carlos Eduardo Verissimo Ribeiro\n",
      "\n",
      "8. Gabriela Prates Teixeira | João Felipe Magalhães Santelli Maia | Thiago Azevedo Dos Santos Machado\n",
      "\n",
      "9. Leonardo Vieira Soares Ferreira | Felipe Da Costa Lage | João Pedro Marvila Padilha Pitta\n",
      "\n",
      "10. Iury Cesar Coutinho Fernandes | Luiz Henrique Gomes Da Silva | Franco Rodrigues Marini\n",
      "\n",
      "11. Bruno Sergio Sampaio Da Costa | Juliana De Almeida Silva | Joao Marcos Marfim Gilaberte Bezerra\n",
      "\n",
      "12. Breno De Brito Fontel | Marcela Rodrigues Claudio | Tatiane Costa Da Matta\n",
      "\n"
     ]
    }
   ],
   "source": [
    "cria_grupos('alunos-t2.txt')"
   ]
  }
 ],
 "metadata": {
  "kernelspec": {
   "display_name": "Python 3",
   "language": "python",
   "name": "python3"
  },
  "language_info": {
   "codemirror_mode": {
    "name": "ipython",
    "version": 3
   },
   "file_extension": ".py",
   "mimetype": "text/x-python",
   "name": "python",
   "nbconvert_exporter": "python",
   "pygments_lexer": "ipython3",
   "version": "3.4.3"
  }
 },
 "nbformat": 4,
 "nbformat_minor": 0
}
