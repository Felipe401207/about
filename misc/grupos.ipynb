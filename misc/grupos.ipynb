{
 "cells": [
  {
   "cell_type": "code",
   "execution_count": 1,
   "metadata": {
    "collapsed": true
   },
   "outputs": [],
   "source": [
    "import random"
   ]
  },
  {
   "cell_type": "code",
   "execution_count": 2,
   "metadata": {
    "collapsed": false
   },
   "outputs": [],
   "source": [
    "with open('alunos-t1.txt') as f:\n",
    "    alunos = [l.strip() for l in f.readlines()]"
   ]
  },
  {
   "cell_type": "code",
   "execution_count": 8,
   "metadata": {
    "collapsed": false
   },
   "outputs": [
    {
     "name": "stdout",
     "output_type": "stream",
     "text": [
      "JULIANA DE OLIVEIRA SILVA | DANIELA ALVIM SILVA | INGRID SILVA BERNARDO\n",
      "GABRIEL LEMOS | NARA DE OLIVEIRA RODRIGUES JOSE | PAULA MARANGONI GAZINEU MARINHO PINTO\n",
      "TAINá NAPOLEáO CARAM | THAIS PECCINI PINHEIRO | CAIO CESZA MOTA FARIAS\n",
      "THIAGO VELOSO FRANKLIN | MARLOS THAMI CHALUB AMERICO DOS REIS | RAFAEL DO REGO BARROS LAPAGESSE ALVES CORREA\n",
      "JULIO CABALEIRO VIANNA | MARCOS VINICIUS CARVALHO CLEMENTE | DIOGO DOS SANTOS DUARTE\n",
      "ANDERSON RAMOS MACHADO | BRENO HENRIQUE DE SOUZA | DANIEL ROSSELLI GONCALVES SILVA\n",
      "RAFAEL PINHEIRO ALVES DA SILVA | SIDHARTA SOARES PEREIRA | LUCAS SILVA PEREIRA\n",
      "WILLIAM DOS SANTOS MORAES | FLAVIA STREVA NUNES | CAROLLINE XAVIER DA SILVA VIEIRA\n",
      "MARíLIA CARDOSO PEREIRA | GUSTAVO DA CUNHA ABRAHIM LIMA | FILIPE LUIZ VIANNA RIBEIRO\n",
      "ADéLIA DUARTE ROCHA | STEFANY BENTO DA SILVA | DAYANA DA SILVA FERREIRA\n",
      "SUANI SUELEN BOCA SANTA | JULIANA DE CARVALHO PAULA | ANA CAROLINA BROWN BEZERRA NABUCO\n",
      "KARINA DOS SANTOS PEREIRA | CLARA SILVEIRA AZAR | BARBARA MACHADO LISBOA\n",
      "ITAMAR ALMEIDA DE OLIVEIRA | MARIANA DE FARIA SANTOS | RONAN DE OLIVEIRA PEREIRA BEZERRA\n",
      "ARTHUR MENDES ROMEU | FELIPE PEREIRA DE ANDRADE | FERNANDA FERREIRA\n",
      "SILAS DA SILVA\n"
     ]
    }
   ],
   "source": [
    "random.shuffle(alunos)\n",
    "grupos = 3\n",
    "for i in range(0, len(alunos), grupos):\n",
    "    print(' | '.join(alunos[i:i + grupos]))"
   ]
  }
 ],
 "metadata": {
  "kernelspec": {
   "display_name": "Python 3",
   "language": "python",
   "name": "python3"
  },
  "language_info": {
   "codemirror_mode": {
    "name": "ipython",
    "version": 3
   },
   "file_extension": ".py",
   "mimetype": "text/x-python",
   "name": "python",
   "nbconvert_exporter": "python",
   "pygments_lexer": "ipython3",
   "version": "3.4.3"
  }
 },
 "nbformat": 4,
 "nbformat_minor": 0
}
