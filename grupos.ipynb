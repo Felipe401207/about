{
 "cells": [
  {
   "cell_type": "code",
   "execution_count": 14,
   "metadata": {
    "collapsed": true
   },
   "outputs": [],
   "source": [
    "import random"
   ]
  },
  {
   "cell_type": "code",
   "execution_count": 15,
   "metadata": {
    "collapsed": false
   },
   "outputs": [],
   "source": [
    "with open('alunos-t1.txt') as f:\n",
    "    alunos = [l.strip() for l in f.readlines()]"
   ]
  },
  {
   "cell_type": "code",
   "execution_count": 16,
   "metadata": {
    "collapsed": true
   },
   "outputs": [],
   "source": [
    "random.shuffle(alunos)"
   ]
  },
  {
   "cell_type": "code",
   "execution_count": 19,
   "metadata": {
    "collapsed": false
   },
   "outputs": [
    {
     "name": "stdout",
     "output_type": "stream",
     "text": [
      "NARA DE OLIVEIRA RODRIGUES JOSE | INGRID SILVA BERNARDO | ADéLIA DUARTE ROCHA\n",
      "SIDHARTA SOARES PEREIRA | JULIO CABALEIRO VIANNA | MARLOS THAMI CHALUB AMERICO DOS REIS\n",
      "ARTHUR MENDES ROMEU | BRENO HENRIQUE DE SOUZA | DAYANA DA SILVA FERREIRA\n",
      "GABRIEL LEMOS | CLAYTON SANTOS DE ARAUJO | DANIELLE GONCALVES BRAVO FRANCISCO\n",
      "ANDERSON RAMOS MACHADO | KARINA DOS SANTOS PEREIRA | BARBARA MACHADO LISBOA\n",
      "ALMIR PEDREIRA DE SANTANA | FELIPE PEREIRA DE ANDRADE | LUANA RISCADO DE CARVALHO PINTO\n",
      "JULIANA DE CARVALHO PAULA | CLARA SILVEIRA AZAR | DANIEL ROSSELLI GONCALVES SILVA\n",
      "MARDEN DOS SANTOS MAGALHAES SILVEIRA | GUSTAVO DA CUNHA ABRAHIM LIMA | STEFANY BENTO DA SILVA\n",
      "FILIPE LUIZ VIANNA RIBEIRO | ANA CAROLINA BROWN BEZERRA NABUCO | CAIO CESZA MOTA FARIAS\n",
      "TAINá NAPOLEáO CARAM | SILAS DA SILVA | MARíLIA CARDOSO PEREIRA\n",
      "PAULA MARANGONI GAZINEU MARINHO PINTO | LEANDRO NOGUEIRA FERREIRA | ITAMAR ALMEIDA DE OLIVEIRA\n",
      "JULIANA DE OLIVEIRA SILVA | DIOGO DOS SANTOS DUARTE | FELIPE DIAS ANTUNES\n",
      "CAROLLINE XAVIER DA SILVA VIEIRA | MARIANA DE FARIA SANTOS | FERNANDA FERREIRA\n",
      "ANA LUIZA MORAES MASCARENHAS | WILLIAM DOS SANTOS MORAES | RICARDO DE SOUZA SOARES JUNIOR\n",
      "RAFAEL DO REGO BARROS LAPAGESSE ALVES CORREA | MARCOS VINICIUS CARVALHO CLEMENTE | LUCAS SILVA PEREIRA\n",
      "DANIELA ALVIM SILVA | THIAGO VELOSO FRANKLIN | RONAN DE OLIVEIRA PEREIRA BEZERRA\n",
      "SUANI SUELEN BOCA SANTA | FLAVIA STREVA NUNES\n"
     ]
    }
   ],
   "source": [
    "for i in range(0, len(alunos), 3):\n",
    "    print ' | '.join(alunos[i:i+3])"
   ]
  },
  {
   "cell_type": "code",
   "execution_count": null,
   "metadata": {
    "collapsed": true
   },
   "outputs": [],
   "source": []
  }
 ],
 "metadata": {
  "kernelspec": {
   "display_name": "Python 2",
   "language": "python",
   "name": "python2"
  },
  "language_info": {
   "codemirror_mode": {
    "name": "ipython",
    "version": 2
   },
   "file_extension": ".py",
   "mimetype": "text/x-python",
   "name": "python",
   "nbconvert_exporter": "python",
   "pygments_lexer": "ipython2",
   "version": "2.7.10"
  }
 },
 "nbformat": 4,
 "nbformat_minor": 0
}
